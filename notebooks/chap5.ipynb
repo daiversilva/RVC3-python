{
  "cells": [
    {
      "cell_type": "markdown",
      "id": "2a513698",
      "metadata": {
        "id": "2a513698"
      },
      "source": [
        "# Robotics, Vision & Control 3e: for Python\n",
        "## Chapter 5: Navigation\n",
        "\n",
        "Copyright (c) 2021- Peter Corke"
      ]
    },
    {
      "cell_type": "code",
      "execution_count": 5,
      "id": "6647d82a",
      "metadata": {
        "id": "6647d82a",
        "outputId": "ac5d6476-42fc-4384-c933-d53c731c6af0",
        "colab": {
          "base_uri": "https://localhost:8080/"
        }
      },
      "outputs": [
        {
          "output_type": "stream",
          "name": "stdout",
          "text": [
            "Running on CoLab\n",
            "Collecting git+https://github.com/petercorke/robotics-toolbox-python@future\n",
            "  Cloning https://github.com/petercorke/robotics-toolbox-python (to revision future) to /tmp/pip-req-build-8qmyso1s\n",
            "  Running command git clone --filter=blob:none --quiet https://github.com/petercorke/robotics-toolbox-python /tmp/pip-req-build-8qmyso1s\n",
            "  Running command git checkout -b future --track origin/future\n",
            "  Switched to a new branch 'future'\n",
            "  Branch 'future' set up to track remote branch 'future' from 'origin'.\n",
            "  Resolved https://github.com/petercorke/robotics-toolbox-python to commit 6188446a943f6c4d830b4d79b0a36b45cd3e7084\n",
            "  Installing build dependencies ... \u001b[?25l\u001b[?25hdone\n",
            "  Getting requirements to build wheel ... \u001b[?25l\u001b[?25hdone\n",
            "  Preparing metadata (pyproject.toml) ... \u001b[?25l\u001b[?25hdone\n",
            "Requirement already satisfied: numpy>=1.17.4 in /usr/local/lib/python3.11/dist-packages (from roboticstoolbox-python==1.2.0) (1.26.4)\n",
            "Requirement already satisfied: spatialmath-python>=1.1.5 in /usr/local/lib/python3.11/dist-packages (from roboticstoolbox-python==1.2.0) (1.1.13)\n",
            "Requirement already satisfied: spatialgeometry>=1.0.0 in /usr/local/lib/python3.11/dist-packages (from roboticstoolbox-python==1.2.0) (1.1.0)\n",
            "Requirement already satisfied: pgraph-python in /usr/local/lib/python3.11/dist-packages (from roboticstoolbox-python==1.2.0) (0.6.3)\n",
            "Requirement already satisfied: scipy in /usr/local/lib/python3.11/dist-packages (from roboticstoolbox-python==1.2.0) (1.13.1)\n",
            "Requirement already satisfied: matplotlib in /usr/local/lib/python3.11/dist-packages (from roboticstoolbox-python==1.2.0) (3.5.1)\n",
            "Requirement already satisfied: ansitable in /usr/local/lib/python3.11/dist-packages (from roboticstoolbox-python==1.2.0) (0.11.4)\n",
            "Requirement already satisfied: swift-sim>=1.0.0 in /usr/local/lib/python3.11/dist-packages (from roboticstoolbox-python==1.2.0) (1.1.0)\n",
            "Requirement already satisfied: rtb-data in /usr/local/lib/python3.11/dist-packages (from roboticstoolbox-python==1.2.0) (1.0.1)\n",
            "Requirement already satisfied: progress in /usr/local/lib/python3.11/dist-packages (from roboticstoolbox-python==1.2.0) (1.6)\n",
            "Requirement already satisfied: typing_extensions in /usr/local/lib/python3.11/dist-packages (from roboticstoolbox-python==1.2.0) (4.12.2)\n",
            "Requirement already satisfied: pre-commit in /usr/local/lib/python3.11/dist-packages (from spatialmath-python>=1.1.5->roboticstoolbox-python==1.2.0) (4.1.0)\n",
            "Requirement already satisfied: cycler>=0.10 in /usr/local/lib/python3.11/dist-packages (from matplotlib->roboticstoolbox-python==1.2.0) (0.12.1)\n",
            "Requirement already satisfied: fonttools>=4.22.0 in /usr/local/lib/python3.11/dist-packages (from matplotlib->roboticstoolbox-python==1.2.0) (4.55.6)\n",
            "Requirement already satisfied: kiwisolver>=1.0.1 in /usr/local/lib/python3.11/dist-packages (from matplotlib->roboticstoolbox-python==1.2.0) (1.4.8)\n",
            "Requirement already satisfied: packaging>=20.0 in /usr/local/lib/python3.11/dist-packages (from matplotlib->roboticstoolbox-python==1.2.0) (24.2)\n",
            "Requirement already satisfied: pillow>=6.2.0 in /usr/local/lib/python3.11/dist-packages (from matplotlib->roboticstoolbox-python==1.2.0) (11.1.0)\n",
            "Requirement already satisfied: pyparsing>=2.2.1 in /usr/local/lib/python3.11/dist-packages (from matplotlib->roboticstoolbox-python==1.2.0) (3.2.1)\n",
            "Requirement already satisfied: python-dateutil>=2.7 in /usr/local/lib/python3.11/dist-packages (from matplotlib->roboticstoolbox-python==1.2.0) (2.8.2)\n",
            "Requirement already satisfied: websockets in /usr/local/lib/python3.11/dist-packages (from swift-sim>=1.0.0->roboticstoolbox-python==1.2.0) (14.2)\n",
            "Requirement already satisfied: colored in /usr/local/lib/python3.11/dist-packages (from ansitable->roboticstoolbox-python==1.2.0) (2.2.5)\n",
            "Requirement already satisfied: six>=1.5 in /usr/local/lib/python3.11/dist-packages (from python-dateutil>=2.7->matplotlib->roboticstoolbox-python==1.2.0) (1.17.0)\n",
            "Requirement already satisfied: cfgv>=2.0.0 in /usr/local/lib/python3.11/dist-packages (from pre-commit->spatialmath-python>=1.1.5->roboticstoolbox-python==1.2.0) (3.4.0)\n",
            "Requirement already satisfied: identify>=1.0.0 in /usr/local/lib/python3.11/dist-packages (from pre-commit->spatialmath-python>=1.1.5->roboticstoolbox-python==1.2.0) (2.6.6)\n",
            "Requirement already satisfied: nodeenv>=0.11.1 in /usr/local/lib/python3.11/dist-packages (from pre-commit->spatialmath-python>=1.1.5->roboticstoolbox-python==1.2.0) (1.9.1)\n",
            "Requirement already satisfied: pyyaml>=5.1 in /usr/local/lib/python3.11/dist-packages (from pre-commit->spatialmath-python>=1.1.5->roboticstoolbox-python==1.2.0) (6.0.2)\n",
            "Requirement already satisfied: virtualenv>=20.10.0 in /usr/local/lib/python3.11/dist-packages (from pre-commit->spatialmath-python>=1.1.5->roboticstoolbox-python==1.2.0) (20.29.1)\n",
            "Requirement already satisfied: distlib<1,>=0.3.7 in /usr/local/lib/python3.11/dist-packages (from virtualenv>=20.10.0->pre-commit->spatialmath-python>=1.1.5->roboticstoolbox-python==1.2.0) (0.3.9)\n",
            "Requirement already satisfied: filelock<4,>=3.12.2 in /usr/local/lib/python3.11/dist-packages (from virtualenv>=20.10.0->pre-commit->spatialmath-python>=1.1.5->roboticstoolbox-python==1.2.0) (3.17.0)\n",
            "Requirement already satisfied: platformdirs<5,>=3.9.1 in /usr/local/lib/python3.11/dist-packages (from virtualenv>=20.10.0->pre-commit->spatialmath-python>=1.1.5->roboticstoolbox-python==1.2.0) (4.3.6)\n",
            "Requirement already satisfied: bdsim in /usr/local/lib/python3.11/dist-packages (1.1.2)\n",
            "Requirement already satisfied: numpy>=1.17.4 in /usr/local/lib/python3.11/dist-packages (from bdsim) (1.26.4)\n",
            "Requirement already satisfied: scipy in /usr/local/lib/python3.11/dist-packages (from bdsim) (1.13.1)\n",
            "Requirement already satisfied: matplotlib in /usr/local/lib/python3.11/dist-packages (from bdsim) (3.5.1)\n",
            "Requirement already satisfied: spatialmath-python in /usr/local/lib/python3.11/dist-packages (from bdsim) (1.1.13)\n",
            "Requirement already satisfied: ansitable in /usr/local/lib/python3.11/dist-packages (from bdsim) (0.11.4)\n",
            "Requirement already satisfied: progress in /usr/local/lib/python3.11/dist-packages (from bdsim) (1.6)\n",
            "Requirement already satisfied: colored in /usr/local/lib/python3.11/dist-packages (from ansitable->bdsim) (2.2.5)\n",
            "Requirement already satisfied: cycler>=0.10 in /usr/local/lib/python3.11/dist-packages (from matplotlib->bdsim) (0.12.1)\n",
            "Requirement already satisfied: fonttools>=4.22.0 in /usr/local/lib/python3.11/dist-packages (from matplotlib->bdsim) (4.55.6)\n",
            "Requirement already satisfied: kiwisolver>=1.0.1 in /usr/local/lib/python3.11/dist-packages (from matplotlib->bdsim) (1.4.8)\n",
            "Requirement already satisfied: packaging>=20.0 in /usr/local/lib/python3.11/dist-packages (from matplotlib->bdsim) (24.2)\n",
            "Requirement already satisfied: pillow>=6.2.0 in /usr/local/lib/python3.11/dist-packages (from matplotlib->bdsim) (11.1.0)\n",
            "Requirement already satisfied: pyparsing>=2.2.1 in /usr/local/lib/python3.11/dist-packages (from matplotlib->bdsim) (3.2.1)\n",
            "Requirement already satisfied: python-dateutil>=2.7 in /usr/local/lib/python3.11/dist-packages (from matplotlib->bdsim) (2.8.2)\n",
            "Requirement already satisfied: typing-extensions in /usr/local/lib/python3.11/dist-packages (from spatialmath-python->bdsim) (4.12.2)\n",
            "Requirement already satisfied: pre-commit in /usr/local/lib/python3.11/dist-packages (from spatialmath-python->bdsim) (4.1.0)\n",
            "Requirement already satisfied: six>=1.5 in /usr/local/lib/python3.11/dist-packages (from python-dateutil>=2.7->matplotlib->bdsim) (1.17.0)\n",
            "Requirement already satisfied: cfgv>=2.0.0 in /usr/local/lib/python3.11/dist-packages (from pre-commit->spatialmath-python->bdsim) (3.4.0)\n",
            "Requirement already satisfied: identify>=1.0.0 in /usr/local/lib/python3.11/dist-packages (from pre-commit->spatialmath-python->bdsim) (2.6.6)\n",
            "Requirement already satisfied: nodeenv>=0.11.1 in /usr/local/lib/python3.11/dist-packages (from pre-commit->spatialmath-python->bdsim) (1.9.1)\n",
            "Requirement already satisfied: pyyaml>=5.1 in /usr/local/lib/python3.11/dist-packages (from pre-commit->spatialmath-python->bdsim) (6.0.2)\n",
            "Requirement already satisfied: virtualenv>=20.10.0 in /usr/local/lib/python3.11/dist-packages (from pre-commit->spatialmath-python->bdsim) (20.29.1)\n",
            "Requirement already satisfied: distlib<1,>=0.3.7 in /usr/local/lib/python3.11/dist-packages (from virtualenv>=20.10.0->pre-commit->spatialmath-python->bdsim) (0.3.9)\n",
            "Requirement already satisfied: filelock<4,>=3.12.2 in /usr/local/lib/python3.11/dist-packages (from virtualenv>=20.10.0->pre-commit->spatialmath-python->bdsim) (3.17.0)\n",
            "Requirement already satisfied: platformdirs<5,>=3.9.1 in /usr/local/lib/python3.11/dist-packages (from virtualenv>=20.10.0->pre-commit->spatialmath-python->bdsim) (4.3.6)\n",
            "Requirement already satisfied: rvc3python in /usr/local/lib/python3.11/dist-packages (0.9.2)\n"
          ]
        }
      ],
      "source": [
        "try:\n",
        "    import google.colab\n",
        "    print('Running on CoLab')\n",
        "    #!pip install roboticstoolbox-python>=1.0.2\n",
        "    !pip install git+https://github.com/petercorke/robotics-toolbox-python@future\n",
        "    !pip install spatialmath-python>=1.1.5\n",
        "    !pip install bdsim\n",
        "    !pip install --no-deps rvc3python\n",
        "    COLAB = True\n",
        "except ModuleNotFoundError:\n",
        "    COLAB = False\n",
        "\n",
        "from IPython.core.interactiveshell import InteractiveShell\n",
        "InteractiveShell.ast_node_interactivity = \"last_expr_or_assign\"\n",
        "from IPython.display import HTML\n",
        "\n",
        "import matplotlib.pyplot as plt\n",
        "\n",
        "# add RTB examples folder to the path\n",
        "import sys, os.path\n",
        "import RVC3 as rvc\n",
        "sys.path.append(os.path.join(rvc.__path__[0], 'models'))\n",
        "\n",
        "# helper function to run bdsim in a subprocess and transfer results using a pickle file\n",
        "import pickle\n",
        "def run_shell(tool, **params):\n",
        "    global out\n",
        "    pyfile = os.path.join(rvc.__path__[0], \"models\", tool+\".py\")\n",
        "    cmd = f\"python {pyfile} -H +a -o\"\n",
        "    for key, value in params.items():\n",
        "        cmd += f' --global \"{key}={value}\"'\n",
        "    print(cmd)\n",
        "    os.system(cmd)\n",
        "    with open(\"bd.out\", \"rb\") as f:\n",
        "        out = pickle.load(f)\n",
        "\n",
        "# ------ standard imports ------ #\n",
        "import numpy as np\n",
        "import math\n",
        "from math import pi\n",
        "np.set_printoptions(\n",
        "    linewidth=120, formatter={\n",
        "        'float': lambda x: f\"{0:8.4g}\" if abs(x) < 1e-10 else f\"{x:8.4g}\"})\n",
        "np.random.seed(0)\n",
        "from spatialmath import *\n",
        "from spatialmath.base import *\n",
        "from roboticstoolbox import *\n"
      ]
    },
    {
      "cell_type": "markdown",
      "id": "14a19383",
      "metadata": {
        "id": "14a19383"
      },
      "source": [
        "# 5.1 Introduction to Reactive Navigation\n"
      ]
    },
    {
      "cell_type": "markdown",
      "id": "5b766bc9",
      "metadata": {
        "id": "5b766bc9"
      },
      "source": [
        "## 5.1.1 Braitenberg Vehicles\n"
      ]
    },
    {
      "cell_type": "code",
      "execution_count": null,
      "id": "e2ea70f5",
      "metadata": {
        "lines_to_next_cell": 1,
        "id": "e2ea70f5"
      },
      "outputs": [],
      "source": [
        "def sensorfield(x, y):\n",
        "  xc, yc = (60, 90)\n",
        "  return 200 / ((x - xc) ** 2 + (y - yc) ** 2 + 200)"
      ]
    },
    {
      "cell_type": "markdown",
      "id": "209e615f",
      "metadata": {
        "id": "209e615f"
      },
      "source": [
        "<div style=\"background-color:red\">\n",
        "<span style=\"background-color:red; font-size:20pt\">NOTE</span>\n",
        "\n",
        "There are issues in running bdsim from inside Jupyter.  We have two options, disable all graphics (which is a bit dull) or run bdsim from a subprocess with its own popout windows.\n",
        "\n",
        "For Colab we can only do the first option.  \n",
        "\n",
        "Otherwise, we use the wrapper function `run_shell()` defined in the first cell to spawn a new Python instance to run the block diagram which will pop up new windows on your screen to display a simple animation showing the vehicle's motion in the plane.  This makes it a bit harder to get parameters and data between Jupyter and the `bdsim` simulation, so:\n",
        "* parameter values are passed to `bdsim` as `--global` command line options.\n",
        "* the `-o` command line option to `bdsim` causes it to write results as a pickle file, which are then imported back into Jupyter.</div>"
      ]
    },
    {
      "cell_type": "code",
      "execution_count": 6,
      "id": "b112d3a5",
      "metadata": {
        "id": "b112d3a5",
        "outputId": "2817da6e-c1d7-44cf-b10c-ef78fb30281c",
        "colab": {
          "base_uri": "https://localhost:8080/",
          "height": 1000
        }
      },
      "outputs": [
        {
          "output_type": "stream",
          "name": "stdout",
          "text": [
            "attempt to programmatically set option animation=True is overriden by command line option animation=False, ignored\n",
            "attempt to programmatically set option graphics=True is overriden by command line option graphics=False, ignored\n",
            "* Creates Fig 5.4\n",
            "* Robotics, Vision & Control for Python, P. Corke, Springer 2023.\n",
            "* Copyright (c) 2021- Peter Corke\n",
            "WARNING: unused arguments dict_keys(['size', 'shape', 'trail'])\n",
            "\n",
            "Compiling:\n",
            "┌───────────────┬─────────────┬────────┬─────────────┬─────────────────────┐\n",
            "│     block     │    type     │ inport │   source    │     source type     │\n",
            "├───────────────┼─────────────┼────────┼─────────────┼─────────────────────┤\n",
            "│ Ks            │ gain        │ 0      │ sum.1       │ float64             │\n",
            "├───────────────┼─────────────┼────────┼─────────────┼─────────────────────┤\n",
            "│ Kv            │ gain        │ 0      │ sum.0       │ float64             │\n",
            "├───────────────┼─────────────┼────────┼─────────────┼─────────────────────┤\n",
            "│ leftsensor    │ function    │ 0      │ vehicle     │ ndarray(3,).float64 │\n",
            "├───────────────┼─────────────┼────────┼─────────────┼─────────────────────┤\n",
            "│ rightsensor   │ function    │ 0      │ vehicle     │ ndarray(3,).float64 │\n",
            "├───────────────┼─────────────┼────────┼─────────────┼─────────────────────┤\n",
            "│ sensor field  │ vehicleplot │ 0      │ vehicle     │ ndarray(3,).float64 │\n",
            "├───────────────┼─────────────┼────────┼─────────────┼─────────────────────┤\n",
            "│ speed         │ constant    │        │             │                     │\n",
            "├───────────────┼─────────────┼────────┼─────────────┼─────────────────────┤\n",
            "│ steering rate │ scope       │ 0      │ sum.1       │ float64             │\n",
            "├───────────────┼─────────────┼────────┼─────────────┼─────────────────────┤\n",
            "│ sum.0         │ sum         │ 0      │ speed       │ int                 │\n",
            "│               │             │ 1      │ rightsensor │ float64             │\n",
            "│               │             │ 2      │ leftsensor  │ float64             │\n",
            "├───────────────┼─────────────┼────────┼─────────────┼─────────────────────┤\n",
            "│ sum.1         │ sum         │ 0      │ rightsensor │ float64             │\n",
            "│               │             │ 1      │ leftsensor  │ float64             │\n",
            "├───────────────┼─────────────┼────────┼─────────────┼─────────────────────┤\n",
            "│ vehicle       │ bicycle     │ 0      │ Kv          │ float64             │\n",
            "│               │             │ 1      │ Ks          │ float64             │\n",
            "├───────────────┼─────────────┼────────┼─────────────┼─────────────────────┤\n",
            "│ velocity      │ scope       │ 0      │ Kv          │ float64             │\n",
            "└───────────────┴─────────────┴────────┴─────────────┴─────────────────────┘\n",
            "\n",
            "\n",
            ">>> Start simulation: T = 125, dt = 0.2\n",
            "  Continuous state variables: 3\n",
            "     x0 =  [       5        5        0]\n",
            "  Discrete state variables:   0\n",
            "\n",
            "done\n"
          ]
        },
        {
          "output_type": "stream",
          "name": "stderr",
          "text": [
            "/usr/local/lib/python3.11/dist-packages/RVC3/models/braitenberg.py:30: MatplotlibDeprecationWarning: Auto-removal of grids by pcolor() and pcolormesh() is deprecated since 3.5 and will be removed two minor releases later; please call grid(False) first.\n",
            "  ax.figure.colorbar(a)\n"
          ]
        },
        {
          "output_type": "stream",
          "name": "stdout",
          "text": [
            "\n",
            "<<< Simulation complete\n",
            "  block diagram evaluations: 3758\n",
            "  block diagram exec time:   0.263 ms\n",
            "  time steps:                626\n",
            "  integration intervals:     1\n",
            "\n"
          ]
        },
        {
          "output_type": "display_data",
          "data": {
            "text/plain": [
              "<Figure size 320x320 with 2 Axes>"
            ],
            "image/png": "[encoded data removed]"
          },
          "metadata": {}
        }
      ],
      "source": [
        "if COLAB:\n",
        "  %run -m braitenberg -H -g  # no graphics\n",
        "else:\n",
        "  run_shell(\"braitenberg\")"
      ]
    },
    {
      "cell_type": "code",
      "execution_count": 7,
      "id": "a404be12",
      "metadata": {
        "id": "a404be12",
        "outputId": "e39b07a5-4e35-482b-ee01-b2060a8021f1",
        "colab": {
          "base_uri": "https://localhost:8080/",
          "height": 423
        }
      },
      "outputs": [
        {
          "output_type": "display_data",
          "data": {
            "text/plain": [
              "<Figure size 640x480 with 1 Axes>"
            ],
            "image/png": "[encoded data removed]"
          },
          "metadata": {}
        }
      ],
      "source": [
        "plt.plot(out.x[:,0], out.x[:,1]);"
      ]
    },
    {
      "cell_type": "markdown",
      "id": "10f0e01f",
      "metadata": {
        "id": "10f0e01f"
      },
      "source": [
        "## 5.1.2 Simple Automata\n"
      ]
    },
    {
      "cell_type": "code",
      "execution_count": 8,
      "id": "ce0d6825",
      "metadata": {
        "id": "ce0d6825"
      },
      "outputs": [],
      "source": [
        "house = rtb_load_matfile(\"data/house.mat\");"
      ]
    },
    {
      "cell_type": "code",
      "execution_count": 9,
      "id": "c3f665f7",
      "metadata": {
        "id": "c3f665f7",
        "outputId": "cbf574a1-789b-4c47-8fcb-8a4b5b99f034",
        "colab": {
          "base_uri": "https://localhost:8080/"
        }
      },
      "outputs": [
        {
          "output_type": "execute_result",
          "data": {
            "text/plain": [
              "(397, 596)"
            ]
          },
          "metadata": {},
          "execution_count": 9
        }
      ],
      "source": [
        "floorplan = house[\"floorplan\"];\n",
        "floorplan.shape"
      ]
    },
    {
      "cell_type": "code",
      "execution_count": 10,
      "id": "e4e077b5",
      "metadata": {
        "id": "e4e077b5",
        "outputId": "be6db5b9-92e5-46bd-c8e2-1f216fc1740f",
        "colab": {
          "base_uri": "https://localhost:8080/"
        }
      },
      "outputs": [
        {
          "output_type": "execute_result",
          "data": {
            "text/plain": [
              "dict_keys(['kitchen', 'garage', 'br1', 'br2', 'br3', 'nook', 'mudroom', 'patio', 'study', 'garden', 'driveway', 'living'])"
            ]
          },
          "metadata": {},
          "execution_count": 10
        }
      ],
      "source": [
        "places = house[\"places\"];\n",
        "places.keys()"
      ]
    },
    {
      "cell_type": "code",
      "execution_count": 13,
      "id": "c6fee7ef",
      "metadata": {
        "id": "c6fee7ef",
        "outputId": "d3de0df9-0916-4565-da16-de2613275a98",
        "colab": {
          "base_uri": "https://localhost:8080/"
        }
      },
      "outputs": [
        {
          "output_type": "execute_result",
          "data": {
            "text/plain": [
              "array([ 50, 220], dtype=uint8)"
            ]
          },
          "metadata": {},
          "execution_count": 13
        }
      ],
      "source": [
        "places.br1"
      ]
    },
    {
      "cell_type": "code",
      "execution_count": 14,
      "id": "306d6ab1",
      "metadata": {
        "id": "306d6ab1"
      },
      "outputs": [],
      "source": [
        "bug = Bug2(occgrid=floorplan);"
      ]
    },
    {
      "cell_type": "code",
      "execution_count": 15,
      "id": "de5a3d40",
      "metadata": {
        "collapsed": true,
        "id": "de5a3d40",
        "outputId": "1aab4276-6a08-4d48-ed56-b84955bd2c07",
        "colab": {
          "base_uri": "https://localhost:8080/",
          "height": 398
        }
      },
      "outputs": [
        {
          "output_type": "display_data",
          "data": {
            "text/plain": [
              "<Figure size 640x480 with 1 Axes>"
            ],
            "image/png": "[encoded data removed]"
          },
          "metadata": {}
        }
      ],
      "source": [
        "bug.plot();"
      ]
    },
    {
      "cell_type": "code",
      "execution_count": 16,
      "id": "dbad5c81",
      "metadata": {
        "collapsed": true,
        "id": "dbad5c81",
        "outputId": "9aaf3af8-d6d7-4f58-9190-5af5254d17b0",
        "colab": {
          "base_uri": "https://localhost:8080/",
          "height": 440
        }
      },
      "outputs": [
        {
          "output_type": "execute_result",
          "data": {
            "text/plain": [
              "(1307, 2)"
            ]
          },
          "metadata": {},
          "execution_count": 16
        },
        {
          "output_type": "display_data",
          "data": {
            "text/plain": [
              "<Figure size 640x480 with 1 Axes>"
            ],
            "image/png": "[encoded data removed]"
          },
          "metadata": {}
        }
      ],
      "source": [
        "# bug.run(start=places.br3, goal=places.kitchen, animate=True);  # wont work in Jupyter\n",
        "\n",
        "path = bug.run(start=places.br3, goal=places.kitchen);  # compute the path\n",
        "path.shape"
      ]
    },
    {
      "cell_type": "code",
      "execution_count": 17,
      "id": "28389f40",
      "metadata": {
        "id": "28389f40",
        "outputId": "1225bf89-717d-46e7-a0a7-910c6b30d6fb",
        "colab": {
          "base_uri": "https://localhost:8080/",
          "height": 398
        }
      },
      "outputs": [
        {
          "output_type": "display_data",
          "data": {
            "text/plain": [
              "<Figure size 640x480 with 1 Axes>"
            ],
            "image/png": "[encoded data removed]"
          },
          "metadata": {}
        }
      ],
      "source": [
        "bug.plot(path);  # then overlay it on the map"
      ]
    },
    {
      "cell_type": "markdown",
      "id": "52bfff8d",
      "metadata": {
        "id": "52bfff8d"
      },
      "source": [
        "# 5.2 Introduction to Map-Based Navigation\n"
      ]
    },
    {
      "cell_type": "markdown",
      "id": "24f1fe6f",
      "metadata": {
        "id": "24f1fe6f"
      },
      "source": [
        "# 5.3 Planning with a Graph-Based Map\n"
      ]
    },
    {
      "cell_type": "code",
      "execution_count": 24,
      "id": "0a71ffbe",
      "metadata": {
        "id": "0a71ffbe",
        "outputId": "a4458fbf-53bf-4076-a9e8-6e8db98e7290",
        "colab": {
          "base_uri": "https://localhost:8080/",
          "height": 423
        }
      },
      "outputs": [
        {
          "output_type": "display_data",
          "data": {
            "text/plain": [
              "<Figure size 640x480 with 1 Axes>"
            ],
            "image/png": "[encoded data removed]"
          },
          "metadata": {}
        }
      ],
      "source": [
        "data = rtb_load_jsonfile(\"data/queensland.json\"); #Carga de datos y visualización de lugares\n",
        "for name, info in data[\"places\"].items():\n",
        "  plot_point(info[\"utm\"], text=name)"
      ]
    },
    {
      "cell_type": "code",
      "execution_count": 25,
      "id": "55359c9a",
      "metadata": {
        "id": "55359c9a",
        "outputId": "2df0963e-41d5-4ebe-cbf3-b62b6bf0292f",
        "colab": {
          "base_uri": "https://localhost:8080/"
        }
      },
      "outputs": [
        {
          "output_type": "execute_result",
          "data": {
            "text/plain": [
              "{'start': 'Mount Isa', 'end': 'Cloncurry', 'distance': 118, 'speed': 100}"
            ]
          },
          "metadata": {},
          "execution_count": 25
        }
      ],
      "source": [
        "data[\"routes\"][1] #Visualización de rutas"
      ]
    },
    {
      "cell_type": "code",
      "execution_count": 26,
      "id": "d378306d",
      "metadata": {
        "id": "d378306d"
      },
      "outputs": [],
      "source": [
        "import pgraph #Creación del grafo\n",
        "g = pgraph.UGraph()  # Crear un grafo no dirigido\n",
        "for name, info in data[\"places\"].items():\n",
        "  g.add_vertex(name=name, coord=info[\"utm\"])  # # Añadir vértices al grafo\n",
        "for route in data[\"routes\"]:\n",
        "  g.add_edge(route[\"start\"], route[\"end\"],\n",
        "             cost=route[\"distance\"])  #  Añadir aristas al grafo"
      ]
    },
    {
      "cell_type": "code",
      "execution_count": 27,
      "id": "c4050e27",
      "metadata": {
        "id": "c4050e27",
        "outputId": "bff87f6f-e766-43ec-d9d3-d87b7572c4ef",
        "colab": {
          "base_uri": "https://localhost:8080/",
          "height": 423
        }
      },
      "outputs": [
        {
          "output_type": "display_data",
          "data": {
            "text/plain": [
              "<Figure size 640x480 with 1 Axes>"
            ],
            "image/png": "[encoded data removed]"
          },
          "metadata": {}
        }
      ],
      "source": [
        "g.plot()"
      ]
    },
    {
      "cell_type": "code",
      "execution_count": 29,
      "id": "cad642b9",
      "metadata": {
        "id": "cad642b9",
        "outputId": "cca1cdda-dfc4-4844-97ed-4c8950b6a19a",
        "colab": {
          "base_uri": "https://localhost:8080/"
        }
      },
      "outputs": [
        {
          "output_type": "execute_result",
          "data": {
            "text/plain": [
              "20"
            ]
          },
          "metadata": {},
          "execution_count": 29
        }
      ],
      "source": [
        "g.n # nodos\n"
      ]
    },
    {
      "cell_type": "code",
      "source": [
        "g.ne # aristas"
      ],
      "metadata": {
        "id": "MXELNAaAY81M",
        "outputId": "0cd1be89-8979-4e57-9ed6-9a8d18b32133",
        "colab": {
          "base_uri": "https://localhost:8080/"
        }
      },
      "id": "MXELNAaAY81M",
      "execution_count": 30,
      "outputs": [
        {
          "output_type": "execute_result",
          "data": {
            "text/plain": [
              "29"
            ]
          },
          "metadata": {},
          "execution_count": 30
        }
      ]
    },
    {
      "cell_type": "code",
      "execution_count": 31,
      "id": "aed2eb4e",
      "metadata": {
        "id": "aed2eb4e",
        "outputId": "a4ce8054-498b-412d-d0f7-f415987d6b35",
        "colab": {
          "base_uri": "https://localhost:8080/"
        }
      },
      "outputs": [
        {
          "output_type": "execute_result",
          "data": {
            "text/plain": [
              "UVertex[Brisbane, coord=(1096, 6947)]"
            ]
          },
          "metadata": {},
          "execution_count": 31
        }
      ],
      "source": [
        "g[\"Brisbane\"] # lugar especifico"
      ]
    },
    {
      "cell_type": "code",
      "execution_count": 32,
      "id": "392f92df",
      "metadata": {
        "id": "392f92df",
        "outputId": "1fb6d4bc-6a83-4ea4-ea7f-7c01d896e784",
        "colab": {
          "base_uri": "https://localhost:8080/"
        }
      },
      "outputs": [
        {
          "output_type": "execute_result",
          "data": {
            "text/plain": [
              "[UVertex[Rockhampton, coord=(858.9, 7410)], UVertex[Roma, coord=(677.7, 7060)]]"
            ]
          },
          "metadata": {},
          "execution_count": 32
        }
      ],
      "source": [
        "g[\"Brisbane\"].neighbors()  #Devuelve los nodos vecinos conectados directamente al nodo"
      ]
    },
    {
      "cell_type": "code",
      "execution_count": 33,
      "id": "44fab7bb",
      "metadata": {
        "id": "44fab7bb",
        "outputId": "30e11c8c-19ec-4903-de17-21e8cc2e67cd",
        "colab": {
          "base_uri": "https://localhost:8080/"
        }
      },
      "outputs": [
        {
          "output_type": "execute_result",
          "data": {
            "text/plain": [
              "2"
            ]
          },
          "metadata": {},
          "execution_count": 33
        }
      ],
      "source": [
        "g[\"Brisbane\"].degree #úmero de conexiones directas (aristas) que tiene"
      ]
    },
    {
      "cell_type": "code",
      "execution_count": 34,
      "id": "4a466d6f",
      "metadata": {
        "id": "4a466d6f",
        "outputId": "36f19f20-1b25-4193-ec01-b55f65bd34ff",
        "colab": {
          "base_uri": "https://localhost:8080/"
        }
      },
      "outputs": [
        {
          "output_type": "execute_result",
          "data": {
            "text/plain": [
              "2.9"
            ]
          },
          "metadata": {},
          "execution_count": 34
        }
      ],
      "source": [
        "g.average_degree() #grado promedio de todos los nodos del grafo"
      ]
    },
    {
      "cell_type": "code",
      "execution_count": 35,
      "id": "a09eb6c0",
      "metadata": {
        "id": "a09eb6c0",
        "outputId": "f1ac7abb-cb0e-40e3-b11d-ff1e97d69905",
        "colab": {
          "base_uri": "https://localhost:8080/"
        }
      },
      "outputs": [
        {
          "output_type": "execute_result",
          "data": {
            "text/plain": [
              "1"
            ]
          },
          "metadata": {},
          "execution_count": 35
        }
      ],
      "source": [
        "g.nc #ndica si el grafo está completamente conectado"
      ]
    },
    {
      "cell_type": "markdown",
      "source": [
        "Permite inspeccionar las rutas disponibles desde un nodo específico, incluyendo información sobre los nodos extremos de cada ruta.\n"
      ],
      "metadata": {
        "id": "F1dHjz42dKI3"
      },
      "id": "F1dHjz42dKI3"
    },
    {
      "cell_type": "code",
      "execution_count": 39,
      "id": "37b41d68",
      "metadata": {
        "id": "37b41d68",
        "outputId": "5270c3df-da5e-4e43-d664-1424f6ccf403",
        "colab": {
          "base_uri": "https://localhost:8080/"
        }
      },
      "outputs": [
        {
          "output_type": "execute_result",
          "data": {
            "text/plain": [
              "[Edge{[Rockhampton] -- [Brisbane], cost=682},\n",
              " Edge{[Brisbane] -- [Roma], cost=482}]"
            ]
          },
          "metadata": {},
          "execution_count": 39
        }
      ],
      "source": [
        "edges = g[\"Brisbane\"].edges()"
      ]
    },
    {
      "cell_type": "code",
      "execution_count": 42,
      "id": "200d3cee",
      "metadata": {
        "id": "200d3cee",
        "outputId": "e216c455-c599-48b4-8dae-7bdd40e9e28a",
        "colab": {
          "base_uri": "https://localhost:8080/"
        }
      },
      "outputs": [
        {
          "output_type": "execute_result",
          "data": {
            "text/plain": [
              "[UVertex[Rockhampton, coord=(858.9, 7410)],\n",
              " UVertex[Brisbane, coord=(1096, 6947)]]"
            ]
          },
          "metadata": {},
          "execution_count": 42
        }
      ],
      "source": [
        "edges[0].endpoints"
      ]
    },
    {
      "cell_type": "markdown",
      "source": [
        "planificación de ruta"
      ],
      "metadata": {
        "id": "pRsrtCCDevX_"
      },
      "id": "pRsrtCCDevX_"
    },
    {
      "cell_type": "code",
      "execution_count": 44,
      "id": "f4560b84",
      "metadata": {
        "id": "f4560b84",
        "outputId": "1035ac47-be94-4fa3-b083-ab154ab4f757",
        "colab": {
          "base_uri": "https://localhost:8080/",
          "height": 829
        }
      },
      "outputs": [
        {
          "output_type": "display_data",
          "data": {
            "text/plain": [
              "<Figure size 640x480 with 1 Axes>"
            ],
            "image/png": "[encoded data removed]"
          },
          "metadata": {}
        },
        {
          "output_type": "display_data",
          "data": {
            "text/plain": [
              "<Figure size 640x480 with 1 Axes>"
            ],
            "image/png": "[encoded data removed]"
          },
          "metadata": {}
        }
      ],
      "source": [
        "path, length = g.path_BFS(\"Hughenden\", \"Brisbane\") #Encuentra un camino entre los nodos Hughenden y Brisbane utilizando el algoritmo de búsqueda en anchura (BFS).\n",
        "length\n",
        "\", \".join([p.name for p in path])\n",
        "ax = g.plot(block=None)\n",
        "g.highlight_path(path)\n"
      ]
    },
    {
      "cell_type": "markdown",
      "source": [
        "Búsqueda de la ruta más corta utilizando UCS"
      ],
      "metadata": {
        "id": "K6c0XYY3ih0S"
      },
      "id": "K6c0XYY3ih0S"
    },
    {
      "cell_type": "code",
      "execution_count": 45,
      "id": "ebc5356c",
      "metadata": {
        "id": "ebc5356c",
        "outputId": "b4146acd-c6b8-4b74-fcda-6896bfa486ca",
        "colab": {
          "base_uri": "https://localhost:8080/",
          "height": 36
        }
      },
      "outputs": [
        {
          "output_type": "execute_result",
          "data": {
            "text/plain": [
              "'Hughenden, Barcaldine, Blackall, Charleville, Roma, Brisbane'"
            ],
            "application/vnd.google.colaboratory.intrinsic+json": {
              "type": "string"
            }
          },
          "metadata": {},
          "execution_count": 45
        }
      ],
      "source": [
        "path, length, parents = g.path_UCS(\"Hughenden\", \"Brisbane\")\n",
        "length\n",
        "\", \".join([p.name for p in path])"
      ]
    },
    {
      "cell_type": "code",
      "execution_count": 48,
      "id": "42804579",
      "metadata": {
        "id": "42804579",
        "outputId": "fb15fbca-74ba-46f7-aeee-fb64c4f65fd1",
        "colab": {
          "base_uri": "https://localhost:8080/",
          "height": 36
        }
      },
      "outputs": [
        {
          "output_type": "execute_result",
          "data": {
            "text/plain": [
              "'Charters Towers'"
            ],
            "application/vnd.google.colaboratory.intrinsic+json": {
              "type": "string"
            }
          },
          "metadata": {},
          "execution_count": 48
        }
      ],
      "source": [
        "parents[\"Townsville\"] # será el nodo desde el cual se alcanzó ese menor costo( el nodo mas cercano)\n",
        "#Son esenciales para representar el árbol de búsqueda generado por UCS, te permiten almacenar y rastrear las decisiones óptimas durante la búsqueda"
      ]
    },
    {
      "cell_type": "code",
      "execution_count": 49,
      "id": "b78b942c",
      "metadata": {
        "id": "b78b942c"
      },
      "outputs": [],
      "source": [
        "tree = pgraph.DGraph.Dict(parents);  #Convierte el diccionario de padres en un grafo dirigido"
      ]
    },
    {
      "cell_type": "code",
      "execution_count": 50,
      "id": "f4508ca5",
      "metadata": {
        "id": "f4508ca5"
      },
      "outputs": [],
      "source": [
        "tree.showgraph() #Proporciona una representación visual del árbol de búsqueda, mostrando cómo se exploraron los nodos y se formó el camino óptimo"
      ]
    },
    {
      "cell_type": "code",
      "execution_count": 51,
      "id": "bed542b3",
      "metadata": {
        "lines_to_next_cell": 2,
        "collapsed": true,
        "id": "bed542b3",
        "outputId": "7d6ba612-bf70-4a07-87c3-5781ae7d9646",
        "colab": {
          "base_uri": "https://localhost:8080/"
        }
      },
      "outputs": [
        {
          "output_type": "stream",
          "name": "stdout",
          "text": [
            "\n",
            "FRONTIER: Hughenden(0)\n",
            "EXPLORED: \n",
            "   expand Hughenden\n",
            "      add Cloncurry to the frontier\n",
            "      add Charters Towers to the frontier\n",
            "      add Barcaldine to the frontier\n",
            "      add Winton to the frontier\n",
            "     move Hughenden to the explored list\n",
            "\n",
            "FRONTIER: Cloncurry(401), Charters Towers(248), Barcaldine(500), Winton(216)\n",
            "EXPLORED: Hughenden\n",
            "   expand Winton\n",
            "      add Longreach to the frontier\n",
            "      add Boulia to the frontier\n",
            "      add Windorah to the frontier\n",
            "     move Winton to the explored list\n",
            "\n",
            "FRONTIER: Cloncurry(401), Charters Towers(248), Barcaldine(500), Longreach(396), Boulia(579), Windorah(703)\n",
            "EXPLORED: Hughenden, Winton\n",
            "   expand Charters Towers\n",
            "      add Townsville to the frontier\n",
            "     move Charters Towers to the explored list\n",
            "\n",
            "FRONTIER: Cloncurry(401), Barcaldine(500), Longreach(396), Boulia(579), Windorah(703), Townsville(383)\n",
            "EXPLORED: Hughenden, Winton, Charters Towers\n",
            "   expand Townsville\n",
            "      add Mackay to the frontier\n",
            "     move Townsville to the explored list\n",
            "\n",
            "FRONTIER: Cloncurry(401), Barcaldine(500), Longreach(396), Boulia(579), Windorah(703), Mackay(771)\n",
            "EXPLORED: Hughenden, Winton, Charters Towers, Townsville\n",
            "   expand Longreach\n",
            "     move Longreach to the explored list\n",
            "\n",
            "FRONTIER: Cloncurry(401), Barcaldine(500), Boulia(579), Windorah(703), Mackay(771)\n",
            "EXPLORED: Hughenden, Winton, Charters Towers, Townsville, Longreach\n",
            "   expand Cloncurry\n",
            "      add Mount Isa to the frontier\n",
            "     move Cloncurry to the explored list\n",
            "\n",
            "FRONTIER: Barcaldine(500), Boulia(579), Windorah(703), Mackay(771), Mount Isa(519)\n",
            "EXPLORED: Hughenden, Winton, Charters Towers, Townsville, Longreach, Cloncurry\n",
            "   expand Barcaldine\n",
            "      add Blackall to the frontier\n",
            "      add Emerald to the frontier\n",
            "     move Barcaldine to the explored list\n",
            "\n",
            "FRONTIER: Boulia(579), Windorah(703), Mackay(771), Mount Isa(519), Blackall(606), Emerald(807)\n",
            "EXPLORED: Hughenden, Winton, Charters Towers, Townsville, Longreach, Cloncurry, Barcaldine\n",
            "   expand Mount Isa\n",
            "      add Camooweal to the frontier\n",
            "     move Mount Isa to the explored list\n",
            "\n",
            "FRONTIER: Boulia(579), Windorah(703), Mackay(771), Blackall(606), Emerald(807), Camooweal(707)\n",
            "EXPLORED: Hughenden, Winton, Charters Towers, Townsville, Longreach, Cloncurry, Barcaldine, Mount Isa\n",
            "   expand Boulia\n",
            "      add Bedourie to the frontier\n",
            "     move Boulia to the explored list\n",
            "\n",
            "FRONTIER: Windorah(703), Mackay(771), Blackall(606), Emerald(807), Camooweal(707), Bedourie(773)\n",
            "EXPLORED: Hughenden, Winton, Charters Towers, Townsville, Longreach, Cloncurry, Barcaldine, Mount Isa, Boulia\n",
            "   expand Blackall\n",
            "      add Charleville to the frontier\n",
            "     move Blackall to the explored list\n",
            "\n",
            "FRONTIER: Windorah(703), Mackay(771), Emerald(807), Camooweal(707), Bedourie(773), Charleville(911)\n",
            "EXPLORED: Hughenden, Winton, Charters Towers, Townsville, Longreach, Cloncurry, Barcaldine, Mount Isa, Boulia, Blackall\n",
            "   expand Windorah\n",
            "      add Birdsville to the frontier\n",
            "     move Windorah to the explored list\n",
            "\n",
            "FRONTIER: Mackay(771), Emerald(807), Camooweal(707), Bedourie(773), Charleville(911), Birdsville(1083)\n",
            "EXPLORED: Hughenden, Winton, Charters Towers, Townsville, Longreach, Cloncurry, Barcaldine, Mount Isa, Boulia, Blackall, Windorah\n",
            "   expand Camooweal\n",
            "     move Camooweal to the explored list\n",
            "\n",
            "FRONTIER: Mackay(771), Emerald(807), Bedourie(773), Charleville(911), Birdsville(1083)\n",
            "EXPLORED: Hughenden, Winton, Charters Towers, Townsville, Longreach, Cloncurry, Barcaldine, Mount Isa, Boulia, Blackall, Windorah, Camooweal\n",
            "   expand Mackay\n",
            "      add Rockhampton to the frontier\n",
            "     move Mackay to the explored list\n",
            "\n",
            "FRONTIER: Emerald(807), Bedourie(773), Charleville(911), Birdsville(1083), Rockhampton(1105)\n",
            "EXPLORED: Hughenden, Winton, Charters Towers, Townsville, Longreach, Cloncurry, Barcaldine, Mount Isa, Boulia, Blackall, Windorah, Camooweal, Mackay\n",
            "   expand Bedourie\n",
            " reparent Birdsville: cost 966 via Bedourie is less than cost 1083 via Windorah, change parent from Windorah to Bedourie \n",
            "     move Bedourie to the explored list\n",
            "\n",
            "FRONTIER: Emerald(807), Charleville(911), Birdsville(966), Rockhampton(1105)\n",
            "EXPLORED: Hughenden, Winton, Charters Towers, Townsville, Longreach, Cloncurry, Barcaldine, Mount Isa, Boulia, Blackall, Windorah, Camooweal, Mackay, Bedourie\n",
            "   expand Emerald\n",
            " reparent Rockhampton: cost 1077 via Emerald is less than cost 1105 via Mackay, change parent from Mackay to Emerald \n",
            "     move Emerald to the explored list\n",
            "\n",
            "FRONTIER: Charleville(911), Birdsville(966), Rockhampton(1077)\n",
            "EXPLORED: Hughenden, Winton, Charters Towers, Townsville, Longreach, Cloncurry, Barcaldine, Mount Isa, Boulia, Blackall, Windorah, Camooweal, Mackay, Bedourie, Emerald\n",
            "   expand Charleville\n",
            "      add Roma to the frontier\n",
            "     move Charleville to the explored list\n",
            "\n",
            "FRONTIER: Birdsville(966), Rockhampton(1077), Roma(1177)\n",
            "EXPLORED: Hughenden, Winton, Charters Towers, Townsville, Longreach, Cloncurry, Barcaldine, Mount Isa, Boulia, Blackall, Windorah, Camooweal, Mackay, Bedourie, Emerald, Charleville\n",
            "   expand Birdsville\n",
            "     move Birdsville to the explored list\n",
            "\n",
            "FRONTIER: Rockhampton(1077), Roma(1177)\n",
            "EXPLORED: Hughenden, Winton, Charters Towers, Townsville, Longreach, Cloncurry, Barcaldine, Mount Isa, Boulia, Blackall, Windorah, Camooweal, Mackay, Bedourie, Emerald, Charleville, Birdsville\n",
            "   expand Rockhampton\n",
            "      add Brisbane to the frontier\n",
            "     move Rockhampton to the explored list\n",
            "\n",
            "FRONTIER: Roma(1177), Brisbane(1759)\n",
            "EXPLORED: Hughenden, Winton, Charters Towers, Townsville, Longreach, Cloncurry, Barcaldine, Mount Isa, Boulia, Blackall, Windorah, Camooweal, Mackay, Bedourie, Emerald, Charleville, Birdsville, Rockhampton\n",
            "   expand Roma\n",
            " reparent Brisbane: cost 1659 via Roma is less than cost 1759 via Rockhampton, change parent from Rockhampton to Roma \n",
            "     move Roma to the explored list\n",
            "\n",
            "FRONTIER: Brisbane(1659)\n",
            "EXPLORED: Hughenden, Winton, Charters Towers, Townsville, Longreach, Cloncurry, Barcaldine, Mount Isa, Boulia, Blackall, Windorah, Camooweal, Mackay, Bedourie, Emerald, Charleville, Birdsville, Rockhampton, Roma\n",
            "   expand Brisbane\n",
            "19 vertices explored, 0 remaining on the frontier\n"
          ]
        },
        {
          "output_type": "execute_result",
          "data": {
            "text/plain": [
              "([UVertex[Hughenden, coord=(208.6, 7692)],\n",
              "  UVertex[Barcaldine, coord=(325.8, 7394)],\n",
              "  UVertex[Blackall, coord=(344.5, 7299)],\n",
              "  UVertex[Charleville, coord=(424.7, 7080)],\n",
              "  UVertex[Roma, coord=(677.7, 7060)],\n",
              "  UVertex[Brisbane, coord=(1096, 6947)]],\n",
              " 1659,\n",
              " {'Cloncurry': 'Hughenden',\n",
              "  'Charters Towers': 'Hughenden',\n",
              "  'Barcaldine': 'Hughenden',\n",
              "  'Winton': 'Hughenden',\n",
              "  'Longreach': 'Winton',\n",
              "  'Boulia': 'Winton',\n",
              "  'Windorah': 'Winton',\n",
              "  'Townsville': 'Charters Towers',\n",
              "  'Mackay': 'Townsville',\n",
              "  'Mount Isa': 'Cloncurry',\n",
              "  'Blackall': 'Barcaldine',\n",
              "  'Emerald': 'Barcaldine',\n",
              "  'Camooweal': 'Mount Isa',\n",
              "  'Bedourie': 'Boulia',\n",
              "  'Charleville': 'Blackall',\n",
              "  'Birdsville': 'Bedourie',\n",
              "  'Rockhampton': 'Emerald',\n",
              "  'Roma': 'Charleville',\n",
              "  'Brisbane': 'Roma'})"
            ]
          },
          "metadata": {},
          "execution_count": 51
        }
      ],
      "source": [
        "g.path_UCS(\"Hughenden\", \"Brisbane\", verbose=True) #ara calcular el camino más corto entre los nodos \"Hughenden\" y \"Brisbane\" en el grafo g"
      ]
    },
    {
      "cell_type": "code",
      "execution_count": null,
      "id": "8de0751f",
      "metadata": {
        "lines_to_next_cell": 2,
        "id": "8de0751f"
      },
      "outputs": [],
      "source": [
        "g[\"Bedourie\"].edgeto(g[\"Birdsville\"]).cost"
      ]
    },
    {
      "cell_type": "code",
      "execution_count": null,
      "id": "909343ee",
      "metadata": {
        "id": "909343ee"
      },
      "outputs": [],
      "source": [
        "path, length, parents = g.path_Astar(\"Hughenden\", \"Brisbane\", summary=True)\n",
        "length\n",
        "\", \".join([p.name for p in path])"
      ]
    },
    {
      "cell_type": "code",
      "execution_count": null,
      "id": "8b47835e",
      "metadata": {
        "id": "8b47835e"
      },
      "outputs": [],
      "source": [
        "# find the unique vertex names\n",
        "visited = set(list(parents.keys()) + list(parents.values()));\n",
        "plt.clf()\n",
        "g.plot(block=None)\n",
        "# g.highlight_vertex(visited, color=\"yellow\")"
      ]
    },
    {
      "cell_type": "code",
      "execution_count": null,
      "id": "79500078",
      "metadata": {
        "id": "79500078"
      },
      "outputs": [],
      "source": [
        "g.path_Astar(\"Hughenden\", \"Brisbane\", verbose=True)"
      ]
    },
    {
      "cell_type": "markdown",
      "id": "ee9fcf64",
      "metadata": {
        "id": "ee9fcf64"
      },
      "source": [
        "## 5.3.1 Minimum-Time Path Planning\n"
      ]
    },
    {
      "cell_type": "code",
      "execution_count": null,
      "id": "c35cb465",
      "metadata": {
        "id": "c35cb465"
      },
      "outputs": [],
      "source": [
        "g = pgraph.UGraph()\n",
        "for name, info in data[\"places\"].items():\n",
        "  g.add_vertex(name=name, coord=info[\"utm\"])\n",
        "for route in data[\"routes\"]:\n",
        "  g.add_edge(route[\"start\"], route[\"end\"],\n",
        "             cost=route[\"distance\"] / route[\"speed\"])"
      ]
    },
    {
      "cell_type": "code",
      "execution_count": null,
      "id": "d2a496bb",
      "metadata": {
        "id": "d2a496bb"
      },
      "outputs": [],
      "source": [
        "g.heuristic = lambda x: np.linalg.norm(x) / 100"
      ]
    },
    {
      "cell_type": "code",
      "execution_count": null,
      "id": "5bc14728",
      "metadata": {
        "id": "5bc14728"
      },
      "outputs": [],
      "source": [
        "path, time, _ = g.path_Astar(\"Hughenden\", \"Brisbane\")\n",
        "time\n",
        "\", \".join([p.name for p in path])"
      ]
    },
    {
      "cell_type": "markdown",
      "id": "1c7a0296",
      "metadata": {
        "id": "1c7a0296"
      },
      "source": [
        "# 5.4 Planning with an Occupancy-Grid Map\n"
      ]
    },
    {
      "cell_type": "markdown",
      "id": "3f94f372",
      "metadata": {
        "id": "3f94f372"
      },
      "source": [
        "## 5.4.1 Distance Transform\n"
      ]
    },
    {
      "cell_type": "code",
      "execution_count": null,
      "id": "9f48cc9b",
      "metadata": {
        "id": "9f48cc9b"
      },
      "outputs": [],
      "source": [
        "map = np.zeros((100, 100));"
      ]
    },
    {
      "cell_type": "code",
      "execution_count": null,
      "id": "b849bf65",
      "metadata": {
        "id": "b849bf65"
      },
      "outputs": [],
      "source": [
        "map[40:50, 20:80] = 1;  # set to occupied"
      ]
    },
    {
      "cell_type": "code",
      "execution_count": null,
      "id": "a85db087",
      "metadata": {
        "id": "a85db087"
      },
      "outputs": [],
      "source": [
        "map.ravel()[np.random.choice(map.size, 100, replace=False)] = 1;"
      ]
    },
    {
      "cell_type": "code",
      "execution_count": null,
      "id": "a698f57c",
      "metadata": {
        "id": "a698f57c"
      },
      "outputs": [],
      "source": [
        "simplegrid = np.zeros((6, 6));\n",
        "simplegrid[2:5, 3:5] = 1\n",
        "simplegrid[3:5, 2] = 1"
      ]
    },
    {
      "cell_type": "code",
      "execution_count": null,
      "id": "2c84f713",
      "metadata": {
        "id": "2c84f713"
      },
      "outputs": [],
      "source": [
        "dx = DistanceTransformPlanner(occgrid=simplegrid);"
      ]
    },
    {
      "cell_type": "code",
      "execution_count": null,
      "id": "b67ea87c",
      "metadata": {
        "id": "b67ea87c"
      },
      "outputs": [],
      "source": [
        "dx.plan(goal=(1, 1))"
      ]
    },
    {
      "cell_type": "code",
      "execution_count": null,
      "id": "7bb48742",
      "metadata": {
        "id": "7bb48742"
      },
      "outputs": [],
      "source": [
        "dx.plot(labelvalues=True);"
      ]
    },
    {
      "cell_type": "code",
      "execution_count": null,
      "id": "611b1274",
      "metadata": {
        "id": "611b1274"
      },
      "outputs": [],
      "source": [
        "dx = DistanceTransformPlanner(occgrid=simplegrid, distance=\"manhattan\");\n",
        "dx.plan(goal=(1, 1))\n",
        "dx.plot(labelvalues=True);"
      ]
    },
    {
      "cell_type": "code",
      "execution_count": null,
      "id": "aa887a86",
      "metadata": {
        "id": "aa887a86"
      },
      "outputs": [],
      "source": [
        "dx.plot_3d();"
      ]
    },
    {
      "cell_type": "code",
      "execution_count": null,
      "id": "d4d98f7e",
      "metadata": {
        "id": "d4d98f7e"
      },
      "outputs": [],
      "source": [
        "path = dx.query(start=(5, 4))"
      ]
    },
    {
      "cell_type": "code",
      "execution_count": null,
      "id": "02b3118c",
      "metadata": {
        "id": "02b3118c"
      },
      "outputs": [],
      "source": [
        "dx.plot(path);"
      ]
    },
    {
      "cell_type": "code",
      "execution_count": null,
      "id": "50956b6f",
      "metadata": {
        "id": "50956b6f"
      },
      "outputs": [],
      "source": [
        "# dx.query(start=(5, 4), animate=True);\n",
        "# won't work in Jupyter"
      ]
    },
    {
      "cell_type": "code",
      "execution_count": null,
      "id": "eb8470a8",
      "metadata": {
        "id": "eb8470a8"
      },
      "outputs": [],
      "source": [
        "house = rtb_load_matfile(\"data/house.mat\");\n",
        "floorplan = house[\"floorplan\"];\n",
        "places = house[\"places\"];"
      ]
    },
    {
      "cell_type": "code",
      "execution_count": null,
      "id": "6e208ae2",
      "metadata": {
        "id": "6e208ae2"
      },
      "outputs": [],
      "source": [
        "dx = DistanceTransformPlanner(occgrid=floorplan);\n",
        "dx.plan(goal=places.kitchen)\n",
        "dx.plot();"
      ]
    },
    {
      "cell_type": "code",
      "execution_count": null,
      "id": "96e7f16a",
      "metadata": {
        "id": "96e7f16a"
      },
      "outputs": [],
      "source": [
        "path = dx.query(start=places.br3);\n",
        "path.shape"
      ]
    },
    {
      "cell_type": "code",
      "execution_count": null,
      "id": "77ff7b14",
      "metadata": {
        "id": "77ff7b14"
      },
      "outputs": [],
      "source": [
        "dx.plot(path);"
      ]
    },
    {
      "cell_type": "code",
      "execution_count": null,
      "id": "e1c41ddf",
      "metadata": {
        "id": "e1c41ddf"
      },
      "outputs": [],
      "source": [
        "dx.plan(places.kitchen, summary=True);"
      ]
    },
    {
      "cell_type": "code",
      "execution_count": null,
      "id": "ca282db4",
      "metadata": {
        "id": "ca282db4"
      },
      "outputs": [],
      "source": [
        "# dx.plan(places.kitchen, animate=True);\n",
        "# won't work in Jupyter"
      ]
    },
    {
      "cell_type": "code",
      "execution_count": null,
      "id": "9c060588",
      "metadata": {
        "id": "9c060588"
      },
      "outputs": [],
      "source": [
        "dx = DistanceTransformPlanner(occgrid=floorplan, inflate=5);\n",
        "dx.plan(places.kitchen);\n",
        "p = dx.query(places.br3);\n",
        "dx.plot(p);"
      ]
    },
    {
      "cell_type": "markdown",
      "id": "27754062",
      "metadata": {
        "id": "27754062"
      },
      "source": [
        "## 5.4.2 D*\n"
      ]
    },
    {
      "cell_type": "code",
      "execution_count": null,
      "id": "842acd9d",
      "metadata": {
        "id": "842acd9d"
      },
      "outputs": [],
      "source": [
        "dstar = DstarPlanner(occgrid=floorplan);"
      ]
    },
    {
      "cell_type": "code",
      "execution_count": null,
      "id": "cb22ef8d",
      "metadata": {
        "id": "cb22ef8d"
      },
      "outputs": [],
      "source": [
        "c = dstar.costmap;"
      ]
    },
    {
      "cell_type": "code",
      "execution_count": null,
      "id": "21a96738",
      "metadata": {
        "id": "21a96738"
      },
      "outputs": [],
      "source": [
        "dstar.plan(goal=places.kitchen);"
      ]
    },
    {
      "cell_type": "code",
      "execution_count": null,
      "id": "ad3b48a9",
      "metadata": {
        "id": "ad3b48a9"
      },
      "outputs": [],
      "source": [
        "nexpand0 = dstar.nexpand"
      ]
    },
    {
      "cell_type": "code",
      "execution_count": null,
      "id": "3a0dcbd2",
      "metadata": {
        "lines_to_next_cell": 1,
        "id": "3a0dcbd2"
      },
      "outputs": [],
      "source": [
        "path = dstar.query(start=places.br3);"
      ]
    },
    {
      "cell_type": "code",
      "execution_count": null,
      "id": "754cadaf",
      "metadata": {
        "lines_to_next_cell": 1,
        "id": "754cadaf"
      },
      "outputs": [],
      "source": [
        "def sensorfunc(pos):\n",
        "   if pos[0] == 300:  # near the door?\n",
        "       changes = []\n",
        "       for x in range(300, 325):\n",
        "           for y in range(115,125):\n",
        "               changes.append((x, y, np.inf))\n",
        "       return changes"
      ]
    },
    {
      "cell_type": "code",
      "execution_count": null,
      "id": "5b799e8b",
      "metadata": {
        "id": "5b799e8b"
      },
      "outputs": [],
      "source": [
        "dstar.query(start=places.br3, sensor=sensorfunc);"
      ]
    },
    {
      "cell_type": "code",
      "execution_count": null,
      "id": "05364a25",
      "metadata": {
        "id": "05364a25"
      },
      "outputs": [],
      "source": [
        "dstar.nexpand - nexpand0"
      ]
    },
    {
      "cell_type": "markdown",
      "id": "246ba6fc",
      "metadata": {
        "id": "246ba6fc"
      },
      "source": [
        "# 5.5 Planning with Roadmaps\n"
      ]
    },
    {
      "cell_type": "code",
      "execution_count": null,
      "id": "029bc0a0",
      "metadata": {
        "id": "029bc0a0"
      },
      "outputs": [],
      "source": [
        "occgrid = floorplan.copy();"
      ]
    },
    {
      "cell_type": "code",
      "execution_count": null,
      "id": "8a32a31d",
      "metadata": {
        "id": "8a32a31d"
      },
      "outputs": [],
      "source": [
        "occgrid[0, :] = 1\n",
        "occgrid[-1, :] = 1\n",
        "occgrid[:, 0] = 1\n",
        "occgrid[:, -1] = 1"
      ]
    },
    {
      "cell_type": "code",
      "execution_count": null,
      "id": "8b682313",
      "metadata": {
        "id": "8b682313"
      },
      "outputs": [],
      "source": [
        "from machinevisiontoolbox import Image\n",
        "\n",
        "freespace = Image(occgrid == 0)\n",
        "freespace.disp();"
      ]
    },
    {
      "cell_type": "code",
      "execution_count": null,
      "id": "e8c1ba73",
      "metadata": {
        "id": "e8c1ba73"
      },
      "outputs": [],
      "source": [
        "skeleton = freespace.thin().disp();"
      ]
    },
    {
      "cell_type": "markdown",
      "id": "27b00e0e",
      "metadata": {
        "id": "27b00e0e"
      },
      "source": [
        "### Excurse 5.8: Voronoi Tessellation"
      ]
    },
    {
      "cell_type": "code",
      "execution_count": null,
      "id": "4efaa8b6",
      "metadata": {
        "id": "4efaa8b6"
      },
      "outputs": [],
      "source": [
        "sites = np.random.uniform(size=(2,9));\n",
        "from scipy.spatial import Voronoi\n",
        "\n",
        "vor = Voronoi(sites.T);\n",
        "\n",
        "from scipy.spatial import voronoi_plot_2d\n",
        "\n",
        "ax = plt.gca()\n",
        "ax.plot(sites[0,:], sites[1,:], \"k*\", markersize=10)\n",
        "voronoi_plot_2d(vor, ax=ax, show_points=False)\n",
        "ax.set_aspect('equal')\n",
        "ax.set_xlim(0, 1)\n",
        "ax.set_ylim(0, 1)\n"
      ]
    },
    {
      "cell_type": "code",
      "execution_count": null,
      "id": "5695d1e6",
      "metadata": {
        "id": "5695d1e6"
      },
      "outputs": [],
      "source": [
        "prm = PRMPlanner(occgrid=floorplan, seed=0);"
      ]
    },
    {
      "cell_type": "code",
      "execution_count": null,
      "id": "764f31fc",
      "metadata": {
        "id": "764f31fc"
      },
      "outputs": [],
      "source": [
        "prm.plan(npoints=50)"
      ]
    },
    {
      "cell_type": "code",
      "execution_count": null,
      "id": "3cd10bfc",
      "metadata": {
        "id": "3cd10bfc"
      },
      "outputs": [],
      "source": [
        "prm"
      ]
    },
    {
      "cell_type": "code",
      "execution_count": null,
      "id": "6b2b319c",
      "metadata": {
        "id": "6b2b319c"
      },
      "outputs": [],
      "source": [
        "prm.plot();"
      ]
    },
    {
      "cell_type": "code",
      "execution_count": null,
      "id": "0fc357c6",
      "metadata": {
        "id": "0fc357c6"
      },
      "outputs": [],
      "source": [
        "prm.plan(npoints=300)\n",
        "prm.plot();\n",
        "prm"
      ]
    },
    {
      "cell_type": "code",
      "execution_count": null,
      "id": "6ac8612c",
      "metadata": {
        "id": "6ac8612c"
      },
      "outputs": [],
      "source": [
        "np.random.rand(5)  # seeded by NumPy (not repeatable)\n",
        "np.random.seed(42)\n",
        "np.random.rand(5)  # with seed of 42\n",
        "np.random.seed(42)\n",
        "np.random.rand(5)  # with seed of 42"
      ]
    },
    {
      "cell_type": "code",
      "execution_count": null,
      "id": "6fdf4c5c",
      "metadata": {
        "id": "6fdf4c5c"
      },
      "outputs": [],
      "source": [
        "path = prm.query(start=places.br3, goal=places.kitchen);\n",
        "prm.plot(path)"
      ]
    },
    {
      "cell_type": "code",
      "execution_count": null,
      "id": "64e7d5d6",
      "metadata": {
        "id": "64e7d5d6"
      },
      "outputs": [],
      "source": [
        "path = prm.query(start=places.br2, goal=places.kitchen);\n",
        "path.shape"
      ]
    },
    {
      "cell_type": "markdown",
      "id": "76fe0c35",
      "metadata": {
        "id": "76fe0c35"
      },
      "source": [
        "# 5.6 Planning Driveable Paths\n"
      ]
    },
    {
      "cell_type": "code",
      "execution_count": null,
      "id": "57b8208d",
      "metadata": {
        "id": "57b8208d"
      },
      "outputs": [],
      "source": [
        "qs = (0, 0, pi/2);\n",
        "qg = (1, 0, pi/2);"
      ]
    },
    {
      "cell_type": "markdown",
      "id": "5262b393",
      "metadata": {
        "id": "5262b393"
      },
      "source": [
        "## 5.6.1 Dubins Path Planner\n"
      ]
    },
    {
      "cell_type": "code",
      "execution_count": null,
      "id": "bb7654ae",
      "metadata": {
        "id": "bb7654ae"
      },
      "outputs": [],
      "source": [
        "dubins = DubinsPlanner(curvature=1)"
      ]
    },
    {
      "cell_type": "code",
      "execution_count": null,
      "id": "ad5d03dd",
      "metadata": {
        "id": "ad5d03dd"
      },
      "outputs": [],
      "source": [
        "path, status = dubins.query(qs, qg)\n",
        "path.shape"
      ]
    },
    {
      "cell_type": "code",
      "execution_count": null,
      "id": "312d2291",
      "metadata": {
        "id": "312d2291"
      },
      "outputs": [],
      "source": [
        "dubins.plot(path);"
      ]
    },
    {
      "cell_type": "code",
      "execution_count": null,
      "id": "f7dbdcd3",
      "metadata": {
        "id": "f7dbdcd3"
      },
      "outputs": [],
      "source": [
        "status"
      ]
    },
    {
      "cell_type": "code",
      "execution_count": null,
      "id": "fb837228",
      "metadata": {
        "id": "fb837228"
      },
      "outputs": [],
      "source": [
        "dubins.plot(path, configspace=True);"
      ]
    },
    {
      "cell_type": "markdown",
      "id": "72b86806",
      "metadata": {
        "id": "72b86806"
      },
      "source": [
        "## 5.6.2 Reeds-Shepp Path Planner\n"
      ]
    },
    {
      "cell_type": "code",
      "execution_count": null,
      "id": "4c424e50",
      "metadata": {
        "id": "4c424e50"
      },
      "outputs": [],
      "source": [
        "rs = ReedsSheppPlanner(curvature=1)\n",
        "path, status = rs.query(qs, qg)\n",
        "path.shape\n",
        "status"
      ]
    },
    {
      "cell_type": "code",
      "execution_count": null,
      "id": "3a573ebc",
      "metadata": {
        "id": "3a573ebc"
      },
      "outputs": [],
      "source": [
        "rs.plot(path, direction=status.direction);"
      ]
    },
    {
      "cell_type": "code",
      "execution_count": null,
      "id": "5969df39",
      "metadata": {
        "id": "5969df39"
      },
      "outputs": [],
      "source": [
        "rs.plot(path, configspace=True);"
      ]
    },
    {
      "cell_type": "markdown",
      "id": "2859e9db",
      "metadata": {
        "id": "2859e9db"
      },
      "source": [
        "## 5.6.3 Lattice Planner\n"
      ]
    },
    {
      "cell_type": "code",
      "execution_count": null,
      "id": "af3a1985",
      "metadata": {
        "id": "af3a1985"
      },
      "outputs": [],
      "source": [
        "lp = LatticePlanner();\n",
        "lp.plan(iterations=1, summary=True)\n",
        "lp.plot()"
      ]
    },
    {
      "cell_type": "code",
      "execution_count": null,
      "id": "267ef630",
      "metadata": {
        "id": "267ef630"
      },
      "outputs": [],
      "source": [
        "lp.plan(iterations=2, summary=True)\n",
        "lp.plot()"
      ]
    },
    {
      "cell_type": "code",
      "execution_count": null,
      "id": "c6deade8",
      "metadata": {
        "id": "c6deade8"
      },
      "outputs": [],
      "source": [
        "lp.plot(configspace=True)"
      ]
    },
    {
      "cell_type": "code",
      "execution_count": null,
      "id": "8a602d81",
      "metadata": {
        "id": "8a602d81"
      },
      "outputs": [],
      "source": [
        "lp.plan(iterations=8, summary=True)\n",
        "lp.plot()"
      ]
    },
    {
      "cell_type": "code",
      "execution_count": null,
      "id": "dba23e17",
      "metadata": {
        "id": "dba23e17"
      },
      "outputs": [],
      "source": [
        "path, status = lp.query(qs, qg);\n",
        "path.shape"
      ]
    },
    {
      "cell_type": "code",
      "execution_count": null,
      "id": "81a98e1f",
      "metadata": {
        "id": "81a98e1f"
      },
      "outputs": [],
      "source": [
        "lp.plot(path)"
      ]
    },
    {
      "cell_type": "code",
      "execution_count": null,
      "id": "b5dfde03",
      "metadata": {
        "id": "b5dfde03"
      },
      "outputs": [],
      "source": [
        "status"
      ]
    },
    {
      "cell_type": "code",
      "execution_count": null,
      "id": "20f33628",
      "metadata": {
        "id": "20f33628"
      },
      "outputs": [],
      "source": [
        "lattice = LatticePlanner(costs=[1, 10, 1])  # S, L, R\n",
        "lp.plan(iterations=8)\n",
        "path, status = lp.query(qs, qg)"
      ]
    },
    {
      "cell_type": "code",
      "execution_count": null,
      "id": "48924cd5",
      "metadata": {
        "id": "48924cd5"
      },
      "outputs": [],
      "source": [
        "og = BinaryOccupancyGrid(workspace=[-5, 5, -5, 5], value=False)"
      ]
    },
    {
      "cell_type": "code",
      "execution_count": null,
      "id": "e51c05eb",
      "metadata": {
        "id": "e51c05eb"
      },
      "outputs": [],
      "source": [
        "og.set([-2, 0, -2, -1], True)\n",
        "og.set([2, 3, 0, 4], True)\n",
        "og.set([0, 2, -2, -2], True)"
      ]
    },
    {
      "cell_type": "code",
      "execution_count": null,
      "id": "edfee0af",
      "metadata": {
        "id": "edfee0af"
      },
      "outputs": [],
      "source": [
        "lattice = LatticePlanner(occgrid=og)\n",
        "lattice.plan(iterations=None)"
      ]
    },
    {
      "cell_type": "code",
      "execution_count": null,
      "id": "b7799048",
      "metadata": {
        "id": "b7799048"
      },
      "outputs": [],
      "source": [
        "path, status = lattice.query(qs, qg)\n",
        "lattice.plot(path)"
      ]
    },
    {
      "cell_type": "markdown",
      "id": "1097f00a",
      "metadata": {
        "id": "1097f00a"
      },
      "source": [
        "## 5.6.4 Curvature Polynomials\n"
      ]
    },
    {
      "cell_type": "code",
      "execution_count": null,
      "id": "c895149b",
      "metadata": {
        "id": "c895149b"
      },
      "outputs": [],
      "source": [
        "cpoly = CurvaturePolyPlanner()\n",
        "path, status = cpoly.query(qs, qg)\n",
        "status\n",
        "cpoly.plot(path);"
      ]
    },
    {
      "cell_type": "markdown",
      "id": "143b785e",
      "metadata": {
        "id": "143b785e"
      },
      "source": [
        "## 5.6.5 Planning in Configuration Space\n"
      ]
    },
    {
      "cell_type": "code",
      "execution_count": null,
      "id": "9fd7b5eb",
      "metadata": {
        "id": "9fd7b5eb"
      },
      "outputs": [],
      "source": [
        "map = PolygonMap(workspace=[0, 10]);\n",
        "map.add([(5, 50), (5, 6), (6, 6), (6, 50)])\n",
        "map.add([(5, 4), (5, -50), (6, -50), (6, 4)])"
      ]
    },
    {
      "cell_type": "code",
      "execution_count": null,
      "id": "6cf4b7b3",
      "metadata": {
        "id": "6cf4b7b3"
      },
      "outputs": [],
      "source": [
        "map.plot()\n",
        "\n",
        "qs = (2, 8, -pi/2);\n",
        "qg = (8, 2, -pi/2);\n",
        "\n",
        "piano = VehicleIcon(\"piano\", scale=3)\n",
        "piano.plot(qs);\n",
        "piano.plot(qg);"
      ]
    },
    {
      "cell_type": "code",
      "execution_count": null,
      "id": "0418cca2",
      "metadata": {
        "id": "0418cca2"
      },
      "outputs": [],
      "source": [
        "l, w = 3, 1.5;\n",
        "vpolygon = Polygon2([(-l/2, w/2), (-l/2, -w/2),\n",
        "                     (l/2, -w/2), (l/2, w/2)]);"
      ]
    },
    {
      "cell_type": "code",
      "execution_count": null,
      "id": "35934fdd",
      "metadata": {
        "id": "35934fdd"
      },
      "outputs": [],
      "source": [
        "q = (2, 4, 0);"
      ]
    },
    {
      "cell_type": "code",
      "execution_count": null,
      "id": "b246be38",
      "metadata": {
        "id": "b246be38"
      },
      "outputs": [],
      "source": [
        "map.iscollision(vpolygon.transformed(SE2(q)))"
      ]
    },
    {
      "cell_type": "code",
      "execution_count": null,
      "id": "755684e9",
      "metadata": {
        "id": "755684e9"
      },
      "outputs": [],
      "source": [
        "vehicle = Bicycle(steer_max=1, L=2, polygon=vpolygon);"
      ]
    },
    {
      "cell_type": "code",
      "execution_count": null,
      "id": "aa92d738",
      "metadata": {
        "id": "aa92d738"
      },
      "outputs": [],
      "source": [
        "vehicle.curvature_max"
      ]
    },
    {
      "cell_type": "code",
      "execution_count": null,
      "id": "847436e6",
      "metadata": {
        "id": "847436e6"
      },
      "outputs": [],
      "source": [
        "rrt = RRTPlanner(map=map, vehicle=vehicle, npoints=50, showsamples=True, seed=0)"
      ]
    },
    {
      "cell_type": "code",
      "execution_count": null,
      "id": "bc3730b1",
      "metadata": {
        "id": "bc3730b1"
      },
      "outputs": [],
      "source": [
        "q = rrt.qrandom()\n",
        "rrt.iscollision(q)"
      ]
    },
    {
      "cell_type": "code",
      "execution_count": null,
      "id": "bf9bce53",
      "metadata": {
        "id": "bf9bce53"
      },
      "outputs": [],
      "source": [
        "# rrt.plan(goal=qg, animate=True)\n",
        "rrt.plan(goal=qg, animate=False)"
      ]
    },
    {
      "cell_type": "code",
      "execution_count": null,
      "id": "563ca2fd",
      "metadata": {
        "id": "563ca2fd"
      },
      "outputs": [],
      "source": [
        "path, status = rrt.query(start=qs);"
      ]
    },
    {
      "cell_type": "code",
      "execution_count": null,
      "id": "2296276d",
      "metadata": {
        "id": "2296276d"
      },
      "outputs": [],
      "source": [
        "rrt.g.plot()"
      ]
    },
    {
      "cell_type": "code",
      "execution_count": null,
      "id": "b40eabb0",
      "metadata": {
        "id": "b40eabb0"
      },
      "outputs": [],
      "source": [
        "rrt.g.highlight_path(status.vertices, color=\"red\")"
      ]
    },
    {
      "cell_type": "code",
      "execution_count": null,
      "id": "9e34de40",
      "metadata": {
        "id": "9e34de40"
      },
      "outputs": [],
      "source": [
        "rrt.plot(path);"
      ]
    },
    {
      "cell_type": "code",
      "execution_count": null,
      "id": "02bec1a6",
      "metadata": {
        "id": "02bec1a6"
      },
      "outputs": [],
      "source": [
        "status.initial_d"
      ]
    },
    {
      "cell_type": "markdown",
      "id": "1bd500ba",
      "metadata": {
        "id": "1bd500ba"
      },
      "source": [
        "# 5.7 Advanced Topics\n"
      ]
    },
    {
      "cell_type": "markdown",
      "id": "9136aeca",
      "metadata": {
        "id": "9136aeca"
      },
      "source": [
        "## 5.7.3 Converting between Graphs and Matrices\n"
      ]
    },
    {
      "cell_type": "code",
      "execution_count": null,
      "id": "a41ea902",
      "metadata": {
        "id": "a41ea902"
      },
      "outputs": [],
      "source": [
        "import pgraph\n",
        "g = pgraph.UGraph()\n",
        "for i in range(4):  # add 4 vertices\n",
        "  g.add_vertex()\n",
        "g[0].connect(g[1], cost=1);  # 0 -- 1\n",
        "g[0].connect(g[3], cost=2);  # 0 -- 3\n",
        "g[1].connect(g[2], cost=3);  # 1 -- 2\n",
        "g.distance()"
      ]
    }
  ],
  "metadata": {
    "jupytext": {
      "cell_metadata_filter": "-all",
      "main_language": "python",
      "notebook_metadata_filter": "-all"
    },
    "kernelspec": {
      "display_name": "dev",
      "language": "python",
      "name": "python3"
    },
    "language_info": {
      "codemirror_mode": {
        "name": "ipython",
        "version": 3
      },
      "file_extension": ".py",
      "mimetype": "text/x-python",
      "name": "python",
      "nbconvert_exporter": "python",
      "pygments_lexer": "ipython3",
      "version": "3.10.9"
    },
    "vscode": {
      "interpreter": {
        "hash": "b7d6b0d76025b9176285a6442c3dd6dd39bcfe7241029b7898b7106bd5e9b472"
      }
    },
    "colab": {
      "provenance": []
    }
  },
  "nbformat": 4,
  "nbformat_minor": 5
}